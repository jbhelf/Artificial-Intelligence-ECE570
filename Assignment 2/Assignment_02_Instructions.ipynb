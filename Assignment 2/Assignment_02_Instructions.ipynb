{
 "cells": [
  {
   "cell_type": "markdown",
   "metadata": {
    "colab_type": "text",
    "id": "zmwWs4S9cRIn"
   },
   "source": [
    "# ECE 570 Assignment 2 Instructions\n",
    "\n",
    "## **Instructions**\n",
    "This Jupyter notebook document entitled **Assignment_02_Instructions** contains instructions for doing your assignment exercise.\n",
    "A second Jupyter notebook document entited **Assignment_01_Exercise** contains all the exercises that you will need to perform.\n",
    "\n",
    "As you read each section of this instruction, you should try running the associated code snippets. \n",
    "The colaboratory environment allows you to run code snippets locally by clicking on the arrow on the left of the code. This is a wonderful feature that allows you to experiment as you read. You should take advantage of this and experiment and test different ideas, so you can become more familiar with the Python and the Jupyter programing environment. \n",
    "\n",
    "At the end of each sub-section, there will be exercises to perform. \n",
    "You should perform the exercises in the document **Assignment_02_Exercise**, which will contain all your results. \n",
    "You can then hand in your results by printing the **Assignment_02_Exercise** document as a pdf with all code and simulation results included."
   ]
  },
  {
   "cell_type": "markdown",
   "metadata": {
    "colab_type": "text",
    "id": "Zz2T0QYYpwVR"
   },
   "source": [
    "## Section 1: Loading and manipulating data\n",
    "\n",
    "In this lab we will use Pandas and Scikit-learn packages to create and analyse data. "
   ]
  },
  {
   "cell_type": "markdown",
   "metadata": {
    "colab_type": "text",
    "id": "Zz2T0QYYpwVR"
   },
   "source": [
    "### Basics of pandas\n",
    "**Pandas** is useful for open source data analysis. It helps on loading different types of raw data and manipulate the data in a highly effective way.  We will only use simple loading and processing functions in this assignment but there are many more advanced manipulations that can be very helpful for manipulating real-world data.\n",
    "\n",
    "Please read the first three pages of the [\"Getting Started\" tutorials in the pandas documentation](https://pandas.pydata.org/pandas-docs/stable/getting_started/intro_tutorials/index.html):\n",
    " - [What kind of data does pandas handle?](https://pandas.pydata.org/pandas-docs/stable/getting_started/intro_tutorials/01_table_oriented.html)\n",
    " - [How do I read and write tabular data?](https://pandas.pydata.org/pandas-docs/stable/getting_started/intro_tutorials/02_read_write.html)\n",
    " - [How do I select a subset of a DataFrame?](https://pandas.pydata.org/pandas-docs/stable/getting_started/intro_tutorials/03_subset_data.html)"
   ]
  },
  {
   "cell_type": "markdown",
   "metadata": {},
   "source": [
    "### Basics of scikit-learn\n",
    "**Scikit-learn** is a powerful tool for machine learning in Python. It has many built-in functions that can help creating/preprocessing data and performing standard machine learning tasks such as classification, regression, clustering, etc. \n",
    "\n",
    "Please read the following getting started guide that explains the basic concepts used in scikit-learn:\n",
    "https://scikit-learn.org/stable/getting_started.html\n",
    "\n",
    "Also, feel free to explore the scikit-learn documentation, tutorials, and examples.  The library is well-documented with many excellent examples where you can download the code and try yourself."
   ]
  },
  {
   "cell_type": "markdown",
   "metadata": {
    "colab_type": "text",
    "id": "4YfOwq3GnRBO"
   },
   "source": [
    "### Load the data\n",
    "In Colab, this is done a little differently since you are using a cloud server instead of a computer. Therefore any external data needs to be uploaded to the server first before any manipulation on the data. Luckily, it is pretty easy to implement on Colab. **All you need to do is to upload your data file on your Google Drive and Mount the drive in Colab.** Here is what you do:\n",
    "(Following the instructions in the code block: click the link to obtain the password/key and copy it back here)"
   ]
  },
  {
   "cell_type": "code",
   "execution_count": 1,
   "metadata": {
    "colab": {},
    "colab_type": "code",
    "id": "ZV9ynXASoHTZ"
   },
   "outputs": [],
   "source": [
    "from google.colab import drive\n",
    "drive.mount('/content/drive')"
   ]
  },
  {
   "cell_type": "code",
   "execution_count": 2,
   "metadata": {
    "colab": {},
    "colab_type": "code",
    "id": "GEz4LYlZoqat"
   },
   "outputs": [],
   "source": [
    "with open('/content/drive/My Drive/foo.txt', 'w') as f:\n",
    "  f.write('Hello Google Drive!')\n",
    "!cat /content/drive/My\\ Drive/foo.txt"
   ]
  },
  {
   "cell_type": "markdown",
   "metadata": {
    "colab_type": "text",
    "id": "wHSyiMveotPf"
   },
   "source": [
    "You home directory should be ```/content/drive/My Drive```."
   ]
  },
  {
   "cell_type": "markdown",
   "metadata": {
    "colab_type": "text",
    "id": "LKZhi88XpMTx"
   },
   "source": [
    "After mounting your drive, you should be able to access your file in the same way just like on your own computer. Then we need to load the datasets. One of the most common type of file for datasets is .csv file which the pandas package provide nice functions for this task."
   ]
  },
  {
   "cell_type": "code",
   "execution_count": 3,
   "metadata": {
    "colab": {},
    "colab_type": "code",
    "id": "nedmSgoBqQjv"
   },
   "outputs": [],
   "source": [
    "import pandas as pd\n",
    "data = pd.read_csv(\"Your-csvFile-location\")"
   ]
  },
  {
   "cell_type": "markdown",
   "metadata": {
    "colab_type": "text",
    "id": "epemYbNAq3aR"
   },
   "source": [
    "Besides simply loading csv files, there are some useful functions for manipulating data."
   ]
  },
  {
   "cell_type": "code",
   "execution_count": 4,
   "metadata": {
    "colab": {
     "base_uri": "https://localhost:8080/",
     "height": 359
    },
    "colab_type": "code",
    "id": "o7WAtFtfq1xc",
    "outputId": "68e4b745-1687-441a-e584-903e4fe60234"
   },
   "outputs": [
    {
     "data": {
      "text/html": [
       "<div>\n",
       "<style scoped>\n",
       "    .dataframe tbody tr th:only-of-type {\n",
       "        vertical-align: middle;\n",
       "    }\n",
       "\n",
       "    .dataframe tbody tr th {\n",
       "        vertical-align: top;\n",
       "    }\n",
       "\n",
       "    .dataframe thead th {\n",
       "        text-align: right;\n",
       "    }\n",
       "</style>\n",
       "<table border=\"1\" class=\"dataframe\">\n",
       "  <thead>\n",
       "    <tr style=\"text-align: right;\">\n",
       "      <th></th>\n",
       "      <th>col1</th>\n",
       "      <th>col2</th>\n",
       "      <th>col3</th>\n",
       "    </tr>\n",
       "  </thead>\n",
       "  <tbody>\n",
       "    <tr>\n",
       "      <td>0</td>\n",
       "      <td>-0.184436</td>\n",
       "      <td>0.435754</td>\n",
       "      <td>1.191385</td>\n",
       "    </tr>\n",
       "    <tr>\n",
       "      <td>1</td>\n",
       "      <td>0.786151</td>\n",
       "      <td>-1.726497</td>\n",
       "      <td>1.517156</td>\n",
       "    </tr>\n",
       "    <tr>\n",
       "      <td>2</td>\n",
       "      <td>0.847952</td>\n",
       "      <td>-0.806312</td>\n",
       "      <td>-0.450352</td>\n",
       "    </tr>\n",
       "    <tr>\n",
       "      <td>3</td>\n",
       "      <td>0.820318</td>\n",
       "      <td>0.393515</td>\n",
       "      <td>0.044630</td>\n",
       "    </tr>\n",
       "    <tr>\n",
       "      <td>4</td>\n",
       "      <td>-0.549352</td>\n",
       "      <td>1.654762</td>\n",
       "      <td>-0.244945</td>\n",
       "    </tr>\n",
       "    <tr>\n",
       "      <td>5</td>\n",
       "      <td>0.714768</td>\n",
       "      <td>0.089639</td>\n",
       "      <td>-0.948801</td>\n",
       "    </tr>\n",
       "    <tr>\n",
       "      <td>6</td>\n",
       "      <td>2.221312</td>\n",
       "      <td>0.975231</td>\n",
       "      <td>-1.645093</td>\n",
       "    </tr>\n",
       "    <tr>\n",
       "      <td>7</td>\n",
       "      <td>0.802822</td>\n",
       "      <td>-1.820003</td>\n",
       "      <td>0.795052</td>\n",
       "    </tr>\n",
       "    <tr>\n",
       "      <td>8</td>\n",
       "      <td>-1.630365</td>\n",
       "      <td>0.950813</td>\n",
       "      <td>-0.132997</td>\n",
       "    </tr>\n",
       "    <tr>\n",
       "      <td>9</td>\n",
       "      <td>-0.378337</td>\n",
       "      <td>0.983146</td>\n",
       "      <td>0.564978</td>\n",
       "    </tr>\n",
       "  </tbody>\n",
       "</table>\n",
       "</div>"
      ],
      "text/plain": [
       "       col1      col2      col3\n",
       "0 -0.184436  0.435754  1.191385\n",
       "1  0.786151 -1.726497  1.517156\n",
       "2  0.847952 -0.806312 -0.450352\n",
       "3  0.820318  0.393515  0.044630\n",
       "4 -0.549352  1.654762 -0.244945\n",
       "5  0.714768  0.089639 -0.948801\n",
       "6  2.221312  0.975231 -1.645093\n",
       "7  0.802822 -1.820003  0.795052\n",
       "8 -1.630365  0.950813 -0.132997\n",
       "9 -0.378337  0.983146  0.564978"
      ]
     },
     "execution_count": 4,
     "metadata": {},
     "output_type": "execute_result"
    }
   ],
   "source": [
    "import pandas as pd\n",
    "import numpy as np\n",
    "\n",
    "# Creating Dataframe structure from numpy array\n",
    "df1 = pd.DataFrame(np.random.randn(10,3),columns=['col1','col2','col3'])\n",
    "df1"
   ]
  },
  {
   "cell_type": "code",
   "execution_count": 5,
   "metadata": {
    "colab": {
     "base_uri": "https://localhost:8080/",
     "height": 359
    },
    "colab_type": "code",
    "id": "PIi-CaNsrnv1",
    "outputId": "c5eb66a6-7c72-417a-e97e-1f29b2dae73d"
   },
   "outputs": [
    {
     "data": {
      "text/html": [
       "<div>\n",
       "<style scoped>\n",
       "    .dataframe tbody tr th:only-of-type {\n",
       "        vertical-align: middle;\n",
       "    }\n",
       "\n",
       "    .dataframe tbody tr th {\n",
       "        vertical-align: top;\n",
       "    }\n",
       "\n",
       "    .dataframe thead th {\n",
       "        text-align: right;\n",
       "    }\n",
       "</style>\n",
       "<table border=\"1\" class=\"dataframe\">\n",
       "  <thead>\n",
       "    <tr style=\"text-align: right;\">\n",
       "      <th></th>\n",
       "      <th>col2</th>\n",
       "      <th>col3</th>\n",
       "    </tr>\n",
       "  </thead>\n",
       "  <tbody>\n",
       "    <tr>\n",
       "      <td>0</td>\n",
       "      <td>0.435754</td>\n",
       "      <td>1.191385</td>\n",
       "    </tr>\n",
       "    <tr>\n",
       "      <td>1</td>\n",
       "      <td>-1.726497</td>\n",
       "      <td>1.517156</td>\n",
       "    </tr>\n",
       "    <tr>\n",
       "      <td>2</td>\n",
       "      <td>-0.806312</td>\n",
       "      <td>-0.450352</td>\n",
       "    </tr>\n",
       "    <tr>\n",
       "      <td>3</td>\n",
       "      <td>0.393515</td>\n",
       "      <td>0.044630</td>\n",
       "    </tr>\n",
       "    <tr>\n",
       "      <td>4</td>\n",
       "      <td>1.654762</td>\n",
       "      <td>-0.244945</td>\n",
       "    </tr>\n",
       "    <tr>\n",
       "      <td>5</td>\n",
       "      <td>0.089639</td>\n",
       "      <td>-0.948801</td>\n",
       "    </tr>\n",
       "    <tr>\n",
       "      <td>6</td>\n",
       "      <td>0.975231</td>\n",
       "      <td>-1.645093</td>\n",
       "    </tr>\n",
       "    <tr>\n",
       "      <td>7</td>\n",
       "      <td>-1.820003</td>\n",
       "      <td>0.795052</td>\n",
       "    </tr>\n",
       "    <tr>\n",
       "      <td>8</td>\n",
       "      <td>0.950813</td>\n",
       "      <td>-0.132997</td>\n",
       "    </tr>\n",
       "    <tr>\n",
       "      <td>9</td>\n",
       "      <td>0.983146</td>\n",
       "      <td>0.564978</td>\n",
       "    </tr>\n",
       "  </tbody>\n",
       "</table>\n",
       "</div>"
      ],
      "text/plain": [
       "       col2      col3\n",
       "0  0.435754  1.191385\n",
       "1 -1.726497  1.517156\n",
       "2 -0.806312 -0.450352\n",
       "3  0.393515  0.044630\n",
       "4  1.654762 -0.244945\n",
       "5  0.089639 -0.948801\n",
       "6  0.975231 -1.645093\n",
       "7 -1.820003  0.795052\n",
       "8  0.950813 -0.132997\n",
       "9  0.983146  0.564978"
      ]
     },
     "execution_count": 5,
     "metadata": {},
     "output_type": "execute_result"
    }
   ],
   "source": [
    "# Drop a column\n",
    "df2 = df1.drop(['col1'], axis=1)\n",
    "df2"
   ]
  },
  {
   "cell_type": "code",
   "execution_count": 6,
   "metadata": {
    "colab": {
     "base_uri": "https://localhost:8080/",
     "height": 215
    },
    "colab_type": "code",
    "id": "fww-spJnsAmy",
    "outputId": "754c1b9f-e8c5-43e7-ca73-863a12c7ebe0"
   },
   "outputs": [
    {
     "data": {
      "text/plain": [
       "0   -0.184436\n",
       "1    0.786151\n",
       "2    0.847952\n",
       "3    0.820318\n",
       "4   -0.549352\n",
       "5    0.714768\n",
       "6    2.221312\n",
       "7    0.802822\n",
       "8   -1.630365\n",
       "9   -0.378337\n",
       "Name: col1, dtype: float64"
      ]
     },
     "execution_count": 6,
     "metadata": {},
     "output_type": "execute_result"
    }
   ],
   "source": [
    "# Access a column\n",
    "df3 = df1['col1']\n",
    "df3"
   ]
  },
  {
   "cell_type": "markdown",
   "metadata": {
    "colab_type": "text",
    "id": "k4LtqBaLsNad"
   },
   "source": [
    "For more useful functions and tricks please refer to (https://www.tutorialspoint.com/python_pandas/index.htm)"
   ]
  },
  {
   "cell_type": "markdown",
   "metadata": {
    "colab_type": "text",
    "id": "cvc3e959wWfS"
   },
   "source": [
    "## Data preprocessing\n",
    "Usually any data we have is raw and cannot just be plugged into the algorithm directly. Therefore, we need to preprocess the data so that can turn the raw data into the data that we can actually work on. And this step is called data preprocessing. There are different strategies for different types of data.  \n"
   ]
  },
  {
   "cell_type": "markdown",
   "metadata": {
    "colab_type": "text",
    "id": "j5fLFUAst8Ic"
   },
   "source": [
    "For numerical data, a common preprocessing step is to make the features have zero-mean and unit-variance. Here is an easy way of doing this."
   ]
  },
  {
   "cell_type": "code",
   "execution_count": 7,
   "metadata": {
    "colab": {
     "base_uri": "https://localhost:8080/",
     "height": 233
    },
    "colab_type": "code",
    "id": "JjE2c2kAuzSv",
    "outputId": "16279096-1d4e-4502-a899-4a04365e711f"
   },
   "outputs": [
    {
     "name": "stdout",
     "output_type": "stream",
     "text": [
      "Before scaled:\n",
      " [[2.0e+01 2.0e-03]\n",
      " [1.0e+02 5.0e-02]\n",
      " [7.5e+01 2.7e-02]\n",
      " [8.2e+01 7.0e-02]\n",
      " [1.7e+01 3.0e-02]]\n",
      "After scaled:\n",
      " [[-1.14407    -1.47520914]\n",
      " [ 1.21483721  0.61976242]\n",
      " [ 0.47767871 -0.38407812]\n",
      " [ 0.68408309  1.49266723]\n",
      " [-1.23252902 -0.2531424 ]]\n"
     ]
    }
   ],
   "source": [
    "import numpy as np\n",
    "from sklearn.preprocessing import StandardScaler\n",
    "\n",
    "# create data\n",
    "data = np.array([[20, 0.002],\n",
    "\t\t\t\t[100, 0.05],\n",
    "\t\t\t\t[75, 0.027],\n",
    "\t\t\t\t[82, 0.07],\n",
    "\t\t\t\t[17, 0.03]])\n",
    "print(f'Before scaled:\\n {data}')\n",
    "\n",
    "# define standard scaler\n",
    "scaler = StandardScaler()\n",
    "# fit (i.e., find mean and standard deviation) \n",
    "#  and transform (i.e., subtract mean and divide by standard deviation)\n",
    "#  in one step call\n",
    "scaled_data = scaler.fit_transform(data)\n",
    "print(f'After scaled:\\n {scaled_data}')"
   ]
  },
  {
   "cell_type": "markdown",
   "metadata": {
    "colab_type": "text",
    "id": "aS0MU7xsvmZp"
   },
   "source": [
    "For non-numerical data, we somehow need to tranform the data into numbers. This is common for classification tasks since each class is usually labelled with names, i.e., a string. Turning this kind of feature into number representation is called **encoding categorical features**. There are many ways to do this, the simpliest way is through **label encoding**."
   ]
  },
  {
   "cell_type": "code",
   "execution_count": 8,
   "metadata": {
    "colab": {
     "base_uri": "https://localhost:8080/",
     "height": 89
    },
    "colab_type": "code",
    "id": "HrhLpzVXvcrf",
    "outputId": "2218b4f9-8f71-4333-87a5-3b1c735f6dd2"
   },
   "outputs": [
    {
     "name": "stdout",
     "output_type": "stream",
     "text": [
      "Original data:\n",
      " ['paris', 'paris', 'tokyo', 'amsterdam', 'lafayette', 'amsterdam']\n",
      "label_data:\n",
      " [2 2 3 0 1 0]\n"
     ]
    }
   ],
   "source": [
    "from sklearn.preprocessing import LabelEncoder, OneHotEncoder\n",
    "data = [\"paris\", \"paris\", \"tokyo\", \"amsterdam\", \"lafayette\", \"amsterdam\"]\n",
    "\n",
    "print(f'Original data:\\n {data}')\n",
    "\n",
    "# define standard scaler\n",
    "label_encode = LabelEncoder()\n",
    "# transform data\n",
    "label_data = label_encode.fit_transform(data)\n",
    "print(f'label_data:\\n {label_data}')\n"
   ]
  },
  {
   "cell_type": "markdown",
   "metadata": {
    "colab_type": "text",
    "id": "DEG66nqyzjos"
   },
   "source": [
    "### Splitting the datasets into training set and test set\n",
    "It is crucial to have a test dataset to evaluate the model we have learned. And scikit-learn provides a simple way of doing this. "
   ]
  },
  {
   "cell_type": "code",
   "execution_count": 9,
   "metadata": {
    "colab": {
     "base_uri": "https://localhost:8080/",
     "height": 71
    },
    "colab_type": "code",
    "id": "FUM3MT8F0dHw",
    "outputId": "5aa740e8-6dec-4622-c820-51a4ed7c65c2"
   },
   "outputs": [
    {
     "name": "stdout",
     "output_type": "stream",
     "text": [
      "Original data shape X:(50, 2), y:(50,)\n",
      "Training data shape X:(40, 2), y:(40,)\n",
      "Test data shape X:(10, 2), y:(10,)\n"
     ]
    }
   ],
   "source": [
    "import numpy as np\n",
    "from sklearn.model_selection import train_test_split\n",
    "\n",
    "X, y = np.arange(100).reshape((-1, 2)), np.array(range(50))\n",
    "print(f'Original data shape X:{X.shape}, y:{y.shape}')\n",
    "\n",
    "X_train, X_test, y_train, y_test = train_test_split(X,y,test_size=0.2)\n",
    "print(f'Training data shape X:{X_train.shape}, y:{y_train.shape}')\n",
    "print(f'Test data shape X:{X_test.shape}, y:{y_test.shape}')"
   ]
  },
  {
   "cell_type": "markdown",
   "metadata": {
    "colab_type": "text",
    "id": "yFQt7DvDzSjW"
   },
   "source": [
    "## Section 2: Train and evaluate the model"
   ]
  },
  {
   "cell_type": "markdown",
   "metadata": {
    "colab_type": "text",
    "id": "8cvYuDKsABuG"
   },
   "source": [
    "### K Nearest Neighbor classification\n",
    "Scikit also provides a simple KNN implemenetation. It works as follows:"
   ]
  },
  {
   "cell_type": "code",
   "execution_count": 10,
   "metadata": {
    "colab": {
     "base_uri": "https://localhost:8080/",
     "height": 71
    },
    "colab_type": "code",
    "id": "UvQ9qbocyadg",
    "outputId": "20dd26cf-7f35-4552-e66d-f9078809dd4a"
   },
   "outputs": [
    {
     "name": "stdout",
     "output_type": "stream",
     "text": [
      "Training data shape X:(1000, 2), y:(1000,)\n",
      "Test data shape X:(1000, 2), y:(1000,)\n",
      "Training score is 0.981, Test score is 0.976\n"
     ]
    }
   ],
   "source": [
    "import matplotlib.pyplot as plt\n",
    "from sklearn.neighbors import KNeighborsClassifier\n",
    "\n",
    "# Create datasets\n",
    "num_samples_per_class = 1000\n",
    "mean1, cov1 = [-2,2], [[2,0],[0,2]]\n",
    "mean2, cov2 = [2,-2], [[2,0],[0,2]]\n",
    "X1 = np.random.multivariate_normal(mean1, cov1, num_samples_per_class)\n",
    "X2 = np.random.multivariate_normal(mean2, cov2, num_samples_per_class)\n",
    "\n",
    "X = np.concatenate((X1,X2))\n",
    "y = np.concatenate((np.zeros(num_samples_per_class),np.ones(num_samples_per_class)))\n",
    "\n",
    "X_train, X_test, y_train, y_test = train_test_split(X,y,test_size=0.5)\n",
    "print(f'Training data shape X:{X_train.shape}, y:{y_train.shape}')\n",
    "print(f'Test data shape X:{X_test.shape}, y:{y_test.shape}')\n",
    "\n",
    "# Create the KNN classifier\n",
    "neigh = KNeighborsClassifier()\n",
    "# Fit the data into the classifier\n",
    "neigh.fit(X_train, y_train)\n",
    "# Evaluate our model\n",
    "train_score = neigh.score(X_train, y_train)\n",
    "test_score = neigh.score(X_test, y_test)\n",
    "print(f'Training score is {train_score}, Test score is {test_score}')\n"
   ]
  },
  {
   "cell_type": "markdown",
   "metadata": {
    "colab_type": "text",
    "id": "m1gK57jB85ts"
   },
   "source": [
    "Note: Our training score is higher than our test score, which is expected because the model only 'sees' the training set and learned from it.\n",
    "\n",
    "**Question: How do we find the best hyperparamters for KNN classifier?**\n",
    "This can be done via cross validation using the `GridSearchCV` estimator in scikit-learn. The gridsearch estimator simply does an exhaustive search over all possible combinations of paramter choices. For example, if I want to find the best `n_neighbors` parameter among **[1,3,5,7,9,11]** for KNN as well as the best distance `metric` among **['euclidean', 'manhattan', 'chebyshev']**, `GridSearchCV` could be built as below.  Note that this will actually fit `6*3*cv` models since there are 6 `n_neighbors` parameters and 3 `metric` parameters and there are `cv` number of cross validation folds."
   ]
  },
  {
   "cell_type": "code",
   "execution_count": 11,
   "metadata": {
    "colab": {
     "base_uri": "https://localhost:8080/",
     "height": 53
    },
    "colab_type": "code",
    "id": "bZhkexe46OkA",
    "outputId": "737ce78f-3fc9-449f-c0c9-08e9e5857a3b"
   },
   "outputs": [
    {
     "name": "stdout",
     "output_type": "stream",
     "text": [
      "The best parameters are {'metric': 'euclidean', 'n_neighbors': 9}\n",
      "Training score is 0.982, Test score is 0.981\n"
     ]
    }
   ],
   "source": [
    "from sklearn.model_selection import GridSearchCV\n",
    "\n",
    "grid_params = {\n",
    "    'n_neighbors': [1,3,5,7,9,11],\n",
    "    'metric': ['euclidean', 'manhattan', 'chebyshev'],\n",
    "}\n",
    "\n",
    "KNN_GV = GridSearchCV(KNeighborsClassifier(),\n",
    "                      grid_params,\n",
    "                      cv = 5 # Specifies the number of fractions for cross validation\n",
    "                     )\n",
    "\n",
    "result = KNN_GV.fit(X_train, y_train)\n",
    "print(f'The best parameters are {result.best_params_}')\n",
    "train_score = KNN_GV.score(X_train, y_train)\n",
    "test_score = KNN_GV.score(X_test, y_test)\n",
    "print(f'Training score is {train_score}, Test score is {test_score}')"
   ]
  },
  {
   "cell_type": "markdown",
   "metadata": {
    "colab_type": "text",
    "id": "_LbRqTfv_PZi"
   },
   "source": [
    "Here, the grid search do a total number of 18 parameter setttings of KNN with each iteration a different combination of parameters. And among the 18 combinations, the best training score is 0.977 withe a corresponding test score of 0.971."
   ]
  },
  {
   "cell_type": "markdown",
   "metadata": {
    "colab_type": "text",
    "id": "rjpHusdRAFyC"
   },
   "source": [
    "### Simple linear regression\n",
    "Scikit-learn also provides a simple implemention of linear regression, here is how it works."
   ]
  },
  {
   "cell_type": "code",
   "execution_count": 12,
   "metadata": {
    "colab": {
     "base_uri": "https://localhost:8080/",
     "height": 267
    },
    "colab_type": "code",
    "id": "wH9EL0SrA_tO",
    "outputId": "443f809f-ebf4-4a60-9de2-d5b9c95889a4"
   },
   "outputs": [
    {
     "data": {
      "image/png": "[encoded data removed]",
      "text/plain": [
       "<Figure size 432x288 with 1 Axes>"
      ]
     },
     "metadata": {
      "needs_background": "light"
     },
     "output_type": "display_data"
    }
   ],
   "source": [
    "# We first create something we need to fit\n",
    "num_samples = 50\n",
    "X = np.linspace(0,2,num_samples)\n",
    "y = np.sin(X) + 0.1*np.random.randn(num_samples)\n",
    "plt.scatter(X, y)\n",
    "plt.show()"
   ]
  },
  {
   "cell_type": "markdown",
   "metadata": {},
   "source": [
    "Here we show a simple 1D linear regresssion."
   ]
  },
  {
   "cell_type": "code",
   "execution_count": 13,
   "metadata": {},
   "outputs": [
    {
     "data": {
      "image/png": "[encoded data removed]",
      "text/plain": [
       "<Figure size 432x288 with 1 Axes>"
      ]
     },
     "metadata": {
      "needs_background": "light"
     },
     "output_type": "display_data"
    }
   ],
   "source": [
    "from sklearn.linear_model import LinearRegression\n",
    "\n",
    "xfit = np.linspace(0, 2, 1000)\n",
    "\n",
    "lin_reg = LinearRegression()\n",
    "lin_reg.fit(X[:, np.newaxis], y)\n",
    "yfit = lin_reg.predict(xfit[:, np.newaxis])\n",
    "plt.plot(xfit, yfit, 'r')\n",
    "plt.scatter(X, y)\n",
    "    \n",
    "plt.show()"
   ]
  },
  {
   "cell_type": "markdown",
   "metadata": {
    "colab_type": "text",
    "id": "BsjDCTl0BIDA"
   },
   "source": [
    "### Linear regression with polynomial features = 1D polynomial regression!\n",
    "Now, lets extend linear regression with \"pseudo features\" by creating polynomial features from the original data, i.e., pseudo features for various powers of the original data: \n",
    "$z_1 = x$, $z_2 = x^2$, $z_3 = x^3$, $z_4 = x^4$, etc.  \n",
    "We can do this easily by first passing the data through a scikit-learn estimator that creates these polynomial features and then running a linear regression method so that our 1D model is a polynomial function: \n",
    "$$\\theta_1 z_1 + \\theta_2 z_2 + \\theta_3 z_3 \\cdots = \\theta_1 x + \\theta_2 x^2 + \\theta_3 x^3 \\cdots \\, .$$\n",
    "[See the python handbook for more details and an in-depth example of linear regression and polynomial regression.](https://jakevdp.github.io/PythonDataScienceHandbook/05.06-linear-regression.html) (There are lots of other options, for example, Gaussian feature is the most used feature and with Ridge/Lasso regularization.)\n",
    "\n",
    "These two steps (one preprocessing and the other classification) can be combined using scikit-learn's pipeline implementation as seen below."
   ]
  },
  {
   "cell_type": "code",
   "execution_count": 14,
   "metadata": {
    "colab": {
     "base_uri": "https://localhost:8080/",
     "height": 267
    },
    "colab_type": "code",
    "id": "40ldYmxU_yeW",
    "outputId": "17713482-3933-4f71-e419-9e8334b8f8c3"
   },
   "outputs": [
    {
     "data": {
      "image/png": "[encoded data removed]",
      "text/plain": [
       "<Figure size 432x288 with 1 Axes>"
      ]
     },
     "metadata": {
      "needs_background": "light"
     },
     "output_type": "display_data"
    }
   ],
   "source": [
    "from sklearn.pipeline import make_pipeline\n",
    "from sklearn.preprocessing import PolynomialFeatures\n",
    "\n",
    "xfit = np.linspace(0, 2, 1000)\n",
    "\n",
    "degree=2\n",
    "estimator = make_pipeline(PolynomialFeatures(degree), LinearRegression())\n",
    "estimator.fit(X[:, np.newaxis], y)\n",
    "yfit = estimator.predict(xfit[:, np.newaxis])\n",
    "plt.plot(xfit, yfit, 'r')\n",
    "plt.scatter(X, y)\n",
    "    \n",
    "plt.show()"
   ]
  },
  {
   "cell_type": "markdown",
   "metadata": {
    "colab_type": "text",
    "id": "ISGZS552CNZB"
   },
   "source": [
    "Here instead of passing terms sequentially, I use the function **make_pipeline** which helps to wrap a sequential steps of operation. Using pipeline makes your code much cleaner."
   ]
  }
 ],
 "metadata": {
  "accelerator": "GPU",
  "colab": {
   "collapsed_sections": [],
   "name": "Assignment_02_Instructions.ipynb",
   "provenance": [],
   "toc_visible": true
  },
  "kernelspec": {
   "display_name": "Python 3",
   "language": "python",
   "name": "python3"
  },
  "language_info": {
   "codemirror_mode": {
    "name": "ipython",
    "version": 3
   },
   "file_extension": ".py",
   "mimetype": "text/x-python",
   "name": "python",
   "nbconvert_exporter": "python",
   "pygments_lexer": "ipython3",
   "version": "3.7.3"
  }
 },
 "nbformat": 4,
 "nbformat_minor": 1
}
