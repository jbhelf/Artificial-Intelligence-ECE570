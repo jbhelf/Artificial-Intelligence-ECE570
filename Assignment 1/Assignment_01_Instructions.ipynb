{
 "cells": [
  {
   "cell_type": "markdown",
   "metadata": {
    "colab_type": "text",
    "id": "zmwWs4S9cRIn"
   },
   "source": [
    "# ECE 570 Assignment 1 Instructions\n",
    "\n",
    "## **Instructions**\n",
    "This Jupyter notebook document entitled **Assignment_01_Instructions** contains instructions for doing your assignment exercise.\n",
    "A second Jupyter notebook document entited **Assignment_01_Exercise** contains all the exercises that you will need to perform.\n",
    "\n",
    "As you read each section of this instruction, you should try running the associated code snippets. \n",
    "The colaboratory environment allows you to run code snippets locally by clicking on the arrow on the left of the code. This is a wonderful feature that allows you to experiment as you read. You should take advantage of this and experiment and test different ideas, so you can become more familiar with the Python and the Jupyter programing environment. \n",
    "\n",
    "At the end of each sub-section, there will be exercises to perform. \n",
    "You should perform the exercises in the document **Assignment_01_Exercise**, which will contain all your results. \n",
    "You can then hand in your results by printing the **Assignment_01_Exercise** document as a pdf with all code and simulation results included."
   ]
  },
  {
   "cell_type": "markdown",
   "metadata": {
    "colab_type": "text",
    "id": "Zz2T0QYYpwVR"
   },
   "source": [
    "## Section 1: Introduction to Python\n",
    "\n",
    "This section introduces basic Python semantics. The goal is to recap some important features in Python.\n"
   ]
  },
  {
   "cell_type": "markdown",
   "metadata": {
    "colab_type": "text",
    "id": "cvc3e959wWfS"
   },
   "source": [
    "### Basics\n",
    "The most frequently used native python structure is the list. A list in python have lots of useful properties. For example：\n"
   ]
  },
  {
   "cell_type": "code",
   "execution_count": 1,
   "metadata": {
    "colab": {
     "base_uri": "https://localhost:8080/",
     "height": 89
    },
    "colab_type": "code",
    "id": "0ULezOydpUaU",
    "outputId": "8272fa1f-76ff-4be8-847d-bbff5e261874"
   },
   "outputs": [
    {
     "name": "stdout",
     "output_type": "stream",
     "text": [
      "The length of A is 4\n",
      "A*3 prints to [1, 2, 3, 4, 1, 2, 3, 4, 1, 2, 3, 4]\n",
      "A+A prints to [1, 2, 3, 4, 1, 2, 3, 4]\n",
      "A appends a string gives [1, 2, 3, 4, 'end']\n"
     ]
    }
   ],
   "source": [
    "A = [1,2,3,4]\n",
    "\n",
    "print(f'The length of A is {len(A)}')     # Length of A\n",
    "print(f'A*3 prints to {A*3}')          # List multiplication\n",
    "print(f'A+A prints to {A+A}')          # List concatanation\n",
    "A.append('end')                   # List appendation\n",
    "print(f'A appends a string gives {A}')"
   ]
  },
  {
   "cell_type": "markdown",
   "metadata": {
    "colab_type": "text",
    "id": "CODfTO3RwvIh"
   },
   "source": [
    "**Important**: Python is a **0 index** language, which means all indices start at 0 (unlike in Matlab which starts at \"1\")."
   ]
  },
  {
   "cell_type": "code",
   "execution_count": 2,
   "metadata": {
    "colab": {
     "base_uri": "https://localhost:8080/",
     "height": 35
    },
    "colab_type": "code",
    "id": "fsHMuM7_qJYW",
    "outputId": "9ed78fdf-3b43-450d-9dbf-b10faa977459"
   },
   "outputs": [
    {
     "name": "stdout",
     "output_type": "stream",
     "text": [
      "first element is 0, last element is 4\n"
     ]
    }
   ],
   "source": [
    "# Python                 \n",
    "A = [0,1,2,3,4]         \n",
    "first = A[0]        # 0 indexing\n",
    "last = A[-1]        # nagative indexing\n",
    "print(f'first element is {first}, last element is {last}')"
   ]
  },
  {
   "cell_type": "markdown",
   "metadata": {
    "colab_type": "text",
    "id": "W9j3Ywnnr1L8"
   },
   "source": [
    "Moreover, lists are also iterable which is very useful in loops."
   ]
  },
  {
   "cell_type": "code",
   "execution_count": 3,
   "metadata": {
    "colab": {
     "base_uri": "https://localhost:8080/",
     "height": 35
    },
    "colab_type": "code",
    "id": "-NbJwYDQsqcu",
    "outputId": "0371bd7a-9ffe-48ab-e763-b64409153014"
   },
   "outputs": [
    {
     "name": "stdout",
     "output_type": "stream",
     "text": [
      "elements in A are: 0 1 2 3 4 "
     ]
    }
   ],
   "source": [
    "print('elements in A are:', end=' ')    # note the end parameter is '\\n'(new line) by default\n",
    "for item in A:\n",
    "  print(item, end=' ')"
   ]
  },
  {
   "cell_type": "markdown",
   "metadata": {
    "colab_type": "text",
    "id": "wvuXB3wDptPI"
   },
   "source": [
    "#### Exercise 1.1:\n",
    "Perform Exercise 1.1 in Jupyter notebook document **Assignment_01_Exercise**.\n",
    "\n",
    "\n",
    "\n",
    "---\n",
    "\n"
   ]
  },
  {
   "cell_type": "markdown",
   "metadata": {
    "colab_type": "text",
    "id": "IBwocFbxwPEy"
   },
   "source": [
    "# Section 2: Introduction to data science packages\n",
    "For this class, we will mainly use these two packages to help visualize data.\n",
    "*   Numpy - Matrix processing package\n",
    "*   Matplotlib - Data visualization package\n",
    "\n",
    "\n",
    "\n"
   ]
  },
  {
   "cell_type": "code",
   "execution_count": 4,
   "metadata": {
    "colab": {},
    "colab_type": "code",
    "id": "CLeP7bdYpoDu"
   },
   "outputs": [],
   "source": [
    "import numpy as np                # import the numpy packages and use the shorter name \"np\"\n",
    "import matplotlib.pyplot as plt          # import matplotlib's pyplot package using the alias \"plt\""
   ]
  },
  {
   "cell_type": "code",
   "execution_count": 5,
   "metadata": {
    "colab": {
     "base_uri": "https://localhost:8080/",
     "height": 71
    },
    "colab_type": "code",
    "id": "MIAME9LAm86J",
    "outputId": "3d8551d8-09ba-43a2-d7a3-1f150f321939"
   },
   "outputs": [
    {
     "name": "stdout",
     "output_type": "stream",
     "text": [
      "A: [0 1 2 3 4 5] which has the type int32\n",
      "A: [0. 0. 0. 0. 0.] which has the type float64\n",
      "A: [6 4 6 7 2] which has the type int64\n"
     ]
    }
   ],
   "source": [
    "# An array can be initialized from a list with all numbers.\n",
    "A = [0,1,2,3,4,5]\n",
    "A = np.array(A, dtype='int32')\n",
    "print(f'A: {A} which has the type {A.dtype}')\n",
    "\n",
    "# Other ways to initialize a numpy array\n",
    "A = np.zeros(5, dtype='float')          # initialize all elements zero\n",
    "print(f'A: {A} which has the type {A.dtype}')\n",
    "A = np.random.randint(low=0, high=10, size=5)  # initialize elements with random integer [0,10]\n",
    "print(f'A: {A} which has the type {A.dtype}')"
   ]
  },
  {
   "cell_type": "code",
   "execution_count": 6,
   "metadata": {
    "colab": {
     "base_uri": "https://localhost:8080/",
     "height": 125
    },
    "colab_type": "code",
    "id": "87Fr5wJgrbg5",
    "outputId": "0f2813da-006a-4110-8029-13420e16734c"
   },
   "outputs": [
    {
     "name": "stdout",
     "output_type": "stream",
     "text": [
      "A is [0 1 2 3 4 5]\n",
      "A has the shape (6,)\n",
      "A[A>2] is [3 4 5]\n",
      "A[:3] is [0 1 2]\n",
      "A[-3:] is [3 4 5]\n",
      "A after reshaping [0 1 2 3 4 5] and the shape is (6,)\n"
     ]
    }
   ],
   "source": [
    "A = np.array([0,1,2,3,4,5])\n",
    "print(f'A is {A}')\n",
    "\n",
    "# Get the shape of the array\n",
    "print(f'A has the shape {A.shape}')\n",
    "\n",
    "# Array logic indexing\n",
    "print(f'A[A>2] is {A[A>2]}')\n",
    "\n",
    "# Array slicing\n",
    "print(f'A[:3] is {A[:3]}')\n",
    "print(f'A[-3:] is {A[-3:]}')\n",
    "\n",
    "# Array reshaping\n",
    "AA = A.reshape(3,-1)  # Note -1 here is not an indication for the numbers of dimension, just a special symbol that tells numpy to auto-compute the dimension.\n",
    "print(f'A after reshaping {A} and the shape is {A.shape}')"
   ]
  },
  {
   "cell_type": "code",
   "execution_count": 7,
   "metadata": {
    "colab": {
     "base_uri": "https://localhost:8080/",
     "height": 408
    },
    "colab_type": "code",
    "id": "XiIx0_7stEFo",
    "outputId": "8b23bf24-550a-4a3a-e8ab-27c52d5c77d2"
   },
   "outputs": [
    {
     "data": {
      "image/png": "[encoded data removed]",
      "text/plain": [
       "<Figure size 1080x432 with 2 Axes>"
      ]
     },
     "metadata": {
      "needs_background": "light"
     },
     "output_type": "display_data"
    }
   ],
   "source": [
    "Y = np.arange(0,1,0.1)          # initiailize using the arrange() function \n",
    "X = range(len(Y))\n",
    "\n",
    "plt.figure(figsize=(15,6))         # Create a figure with size 15 by 6\n",
    "plt.subplot(121)              # Subplot figure 1X2\n",
    "plt.plot(X,Y)               # Plot Y w.r.t X\n",
    "plt.title('$y=x$')             # Give the current subplot a title which can be typed in Latex form\n",
    "plt.subplot(122)\n",
    "plt.plot(X,Y**2)\n",
    "plt.title('$y=x^2$')\n",
    "plt.xlim(-1,11)              # Setting up the visual range for x-axis\n",
    "plt.xticks(range(-1,12))          # Specify the ticks on the x-axis\n",
    "plt.xlabel('x-axis')            # give x label a name\n",
    "plt.ylabel('y-axis')            # give y label a name\n",
    "\n",
    "plt.show()"
   ]
  },
  {
   "cell_type": "markdown",
   "metadata": {
    "colab_type": "text",
    "id": "Mm1L4TQXYICL"
   },
   "source": [
    "There also exists Python packages for neural networks and deep learning. Here are some popular packages:\n",
    "\n",
    "*   TensorFlow (Google)\n",
    "*   Pytorch (Facebook)\n",
    "*   Keras (François Chollet)\n",
    "*   Caffe (Berkeley)\n",
    "\n",
    "We will use some of these in later assignments."
   ]
  },
  {
   "cell_type": "markdown",
   "metadata": {
    "colab_type": "text",
    "id": "UhMS-7OaryJF"
   },
   "source": [
    "#### Exercise 1.2\n",
    "Perform Exercise 1.2 in Jupyter notebook document **Assignment_01_Exercise**."
   ]
  },
  {
   "cell_type": "markdown",
   "metadata": {},
   "source": [
    "# Section 3: A PCA algorithm for a sparse data matrix\n",
    "\n",
    "In the next exercise, your task will be to find the first principal component vector of a **sparse matrix** (sparse data matrices are very useful but must be handled carefully to avoid extra computation as we will see).\n",
    "Finding the first principal component is equivalent to finding the the top right singular vector of a zero-meaned data matrix (or equivalently the top eigenvector of $X_c^T X_c$).\n",
    "In particular, we will use the [power iteration](https://en.wikipedia.org/wiki/Power_iteration) method as it only requires simple matrix vector and vector vector multiplications.\n",
    "In order to accomplish this, we first construct the power iteration algorithm for our sparse matrix $X$ ：\n",
    ">Input: $X\\in \\cal{R}^{n \\times p}$ (sparse matrix)   \n",
    ">Output: $v_1$ (top right singular vector of centered matrix)   \n",
    "> \n",
    ">$\\mu = \\frac{1}{n}\\sum_{i=1}^n x_i$  \n",
    ">$v^{(0)} \\sim \\text{Normal}(0,I)$  \n",
    "> \n",
    ">For $i=1$ to $K$ iterations  \n",
    ">$\\quad\\quad v = (X-\\mu \\mathbb{1}^T)^T (X-\\mu \\mathbb{1}^T)v^{(i-1)}$  \n",
    ">$\\quad\\quad v^{(i)} = \\frac{v}{\\|v\\|_2}$  \n",
    ">Return $v^{(i)}$  \n",
    "\n",
    "Notice that $\\mu$ is the mean vector of $X$ and $\\mathbb{1}$ is the column vector of all one's, i.e., $\\mathbb{1}=[1,1,1,\\cdots,1]^T$). Thus, $X_c = (X-\\mu\\mathbb{1}^T)$ is the centered data matrix where the mean is subtracted from every row.  This centering step is critical for performing PCA correctly via SVD. "
   ]
  },
  {
   "cell_type": "markdown",
   "metadata": {},
   "source": [
    "### Efficient computation of algorithm for sparse matrices\n",
    "The algorithm so far is mathematically well defined. However, notice the step\n",
    ">$v = (X-\\mu \\mathbb{1}^T)^T (X-\\mu \\mathbb{1}^T)v^{(i-1)}$\n",
    "\n",
    "This is not favorable in the sense that the matrix $X$ is sparse.  If the operations are performed in the order defined by the parenthesis, then the intermediate computation $(X-\\mu \\mathbb{1}^T)$ will not be sparse (i.e., because of the mean $\\mu$ is not sparse, the resulting matrix will no longer be sparse.\n",
    "This will destroy the benefit of using sparse matrices.\n",
    "Therefore, instead of computing the vector $v$ like above, we can rearrange the computation for the above equation to achieve at the following new equation based on properties of matrix products (a good exercise is to derive this reordering yourself):\n",
    ">$v = X^T X v^{(i-1)} - \\mathbb{1}\\mu^TXv^{(i-1)} - X^T\\mu\\mathbb{1}^T v^{(i-1)} + \\mathbb{1} \\mu^T \\mu \\mathbb{1}^T v^{(i-1)}$  \n",
    ">$\\hphantom{v} = X^T(X v^{(i-1)}) - \\mathbb{1}(\\mu^T(Xv^{(i-1)})) - (X^T\\mu)(\\mathbb{1}^T v^{(i-1)}) + \\mathbb{1} (\\mu^T \\mu) (\\mathbb{1}^T v^{(i-1)})$\n",
    "\n",
    "The parenthesis on the second line show which computations should be computed first.\n",
    "In this way, we only need to compute multiplications between a sparse matrix and a vector (e.g., $Xv_k$ or $X^T \\mu$), which is much faster than dense matrix computations.\n",
    "Also, we never need to form an intermediate dense matrices (e.g., $(X-\\mu \\mathbb{1}^T)$ or $(X^T X)$). \n",
    "This demonstrates that while the mathematics may be the same for an abstract algorithm, the order of computation matters significantly when implemented on the computer."
   ]
  },
  {
   "cell_type": "markdown",
   "metadata": {
    "colab_type": "text",
    "id": "wLt7BzBYB4j-"
   },
   "source": [
    "#### Exercise 1.3\n",
    "Perform Exercise 1.3 in Jupyter notebook document **Assignment_01_Exercise**."
   ]
  },
  {
   "cell_type": "markdown",
   "metadata": {
    "colab_type": "text",
    "id": "ZjrgtvB-_b7-"
   },
   "source": [
    "# Appendix: Other useful Python/Numpy tips (Highly recommended for reading)"
   ]
  },
  {
   "cell_type": "markdown",
   "metadata": {
    "colab_type": "text",
    "id": "Ql5O_aoK-f5Y"
   },
   "source": [
    "### Important Tip: Whenever possible, avoid using `range` or indices like `i` and `j` for loops\n",
    "Using `range` or indices is very prone to error when looping over lists/arrays or any other list-like object (though common in other languages such as C++ or Matlab.\n",
    "Thus, I suggest avoiding using indices for looping (unless you just want to print out the list number for debugging purposes, look up the Python function `enumerate`).\n",
    "One usual exception to this is for doing multiple iterations of an algorithm.\n",
    "\n",
    "Instead, use Python's simple iterator interface to loop over lists or arrays.  You should be able to find tutorials online that explain python iterators and the for loop in more detail."
   ]
  },
  {
   "cell_type": "markdown",
   "metadata": {
    "colab_type": "text",
    "id": "9ohrB9fG-3D1"
   },
   "source": [
    "### `zip(a,b,...)` can be very useful for iterating over multiple lists that correspond to each other\n",
    "**Note:** `zip` will only match elements up to the **shortest** iterable. For example `zip([1,2], ['a'])` will only produce one item `(1,a)` since the second list only has one item."
   ]
  },
  {
   "cell_type": "code",
   "execution_count": 8,
   "metadata": {
    "colab": {
     "base_uri": "https://localhost:8080/",
     "height": 161
    },
    "colab_type": "code",
    "id": "fu_II0nu8uon",
    "outputId": "f29f385e-31c2-4a69-856e-ada2a1fa3680"
   },
   "outputs": [
    {
     "name": "stdout",
     "output_type": "stream",
     "text": [
      "n= 0 c= a\n",
      "n= 10 c= b\n",
      "n= 20 c= c\n",
      "n= 30 c= d\n",
      "n= 0 c= a xvec= 0\n",
      "n= 10 c= b xvec= 1\n",
      "n= 20 c= c xvec= 2\n",
      "n= 30 c= d xvec= 3\n"
     ]
    }
   ],
   "source": [
    "num_arr = 10*np.arange(10)\n",
    "char_list = ['a','b','c','d']\n",
    "\n",
    "for n, c in zip(num_arr, char_list):\n",
    "    print('n=', n, 'c=', c)\n",
    "    \n",
    "for n, c, xvec in zip(num_arr, char_list, X):\n",
    "    print('n=', n, 'c=', c, 'xvec=', xvec)"
   ]
  },
  {
   "cell_type": "code",
   "execution_count": 9,
   "metadata": {
    "colab": {
     "base_uri": "https://localhost:8080/",
     "height": 215
    },
    "colab_type": "code",
    "id": "s-qzg5lr_QPO",
    "outputId": "d0d44d58-6968-462a-a7a3-f154830e28c6"
   },
   "outputs": [
    {
     "name": "stdout",
     "output_type": "stream",
     "text": [
      "x= 0.0 y= 0.0\n",
      "x= 0.1 y= 0.010000000000000002\n",
      "x= 0.2 y= 0.04000000000000001\n",
      "x= 0.30000000000000004 y= 0.09000000000000002\n",
      "x= 0.4 y= 0.16000000000000003\n",
      "x= 0.5 y= 0.25\n",
      "x= 0.6000000000000001 y= 0.3600000000000001\n",
      "x= 0.7000000000000001 y= 0.4900000000000001\n",
      "x= 0.8 y= 0.6400000000000001\n",
      "x= 0.9 y= 0.81\n",
      "Note: Here tells you the rounding error for numpy operations\n"
     ]
    }
   ],
   "source": [
    "# Loop through first 10 x-y pairs\n",
    "x = np.arange(0,2,0.1)\n",
    "y = x**2\n",
    "\n",
    "for xx, yy in zip(x[:10], y[:10]):\n",
    "  print('x=', xx, 'y=', yy)\n",
    "\n",
    "print('Note: Here tells you the rounding error for numpy operations')"
   ]
  },
  {
   "cell_type": "markdown",
   "metadata": {
    "colab_type": "text",
    "id": "b8ohspz_Bl4P"
   },
   "source": [
    "### _List Comprehensions_ are also very useful and include MAP and FILTER operations\n",
    "\n",
    "- Suppose you want to map a list of numbers to a list of strings\n",
    "- Suppose you only want to map odd numbers\n",
    "- Syntax `[<expression> for <item> in <iterable> if <condition>]`"
   ]
  },
  {
   "cell_type": "code",
   "execution_count": 10,
   "metadata": {
    "colab": {
     "base_uri": "https://localhost:8080/",
     "height": 161
    },
    "colab_type": "code",
    "id": "dRjr2nxi_N-C",
    "outputId": "19b88bb9-79b1-4e9f-8aad-ce11fe6fb389"
   },
   "outputs": [
    {
     "name": "stdout",
     "output_type": "stream",
     "text": [
      "With index loops\n",
      "['Num:1', 'Num:2', 'Num:3', 'Num:4', 'Num:5']\n",
      "With iterator loops\n",
      "['Num:1', 'Num:2', 'Num:3', 'Num:4', 'Num:5']\n",
      "With list comprehension\n",
      "['Num:1', 'Num:2', 'Num:3', 'Num:4', 'Num:5']\n",
      "Odd numbers only with list comprehension\n",
      "['Num:1', 'Num:3', 'Num:5']\n"
     ]
    }
   ],
   "source": [
    "num_list = [1, 2, 3, 4, 5]\n",
    "str_list = []\n",
    "for i in range(len(num_list)):\n",
    "    str_list.append('Num:' + str(num_list[i]))\n",
    "print('With index loops')\n",
    "print(str_list)\n",
    "\n",
    "# Use iterators\n",
    "str_list = []\n",
    "for n in num_list:\n",
    "    str_list.append('Num:' + str(n))\n",
    "print('With iterator loops')\n",
    "print(str_list)\n",
    "\n",
    "# Use list comprehension\n",
    "str_list = ['Num:' + str(n) for n in num_list]\n",
    "print('With list comprehension')\n",
    "print(str_list)\n",
    "\n",
    "# Use list comprehension\n",
    "str_list = ['Num:' + str(n) for n in num_list if np.mod(n, 2) == 1]\n",
    "print('Odd numbers only with list comprehension')\n",
    "print(str_list)"
   ]
  },
  {
   "cell_type": "markdown",
   "metadata": {
    "colab_type": "text",
    "id": "Exs0ZF2OB5oD"
   },
   "source": [
    "### Numpy reduction functions\n",
    "- Numpy includes many useful **reduction** functions such as `np.sum`, `np.mean`, `np.prod`, `np.min`, `np.max`, etc.\n",
    "- The `axis` argument is important and is interpreted as follows:\n",
    "  1. If no axis argument, then just apply to all numbers in all dimensions.\n",
    "  2. If axis argument given, then apply the reduction along that dimension and leave other dimensions alone."
   ]
  },
  {
   "cell_type": "code",
   "execution_count": 11,
   "metadata": {
    "colab": {
     "base_uri": "https://localhost:8080/",
     "height": 161
    },
    "colab_type": "code",
    "id": "eb8pU0riBub_",
    "outputId": "accac738-e849-42bd-9d6e-fd994674fdbe"
   },
   "outputs": [
    {
     "name": "stdout",
     "output_type": "stream",
     "text": [
      "[[ 0  1  2  3]\n",
      " [ 4  5  6  7]\n",
      " [ 8  9 10 11]]\n",
      "With no argument, it is the total sum 66\n",
      "With axis=0, it sums along the first dimension (i.e. along the rows)\n",
      "[12 15 18 21]\n",
      "With axis=1, it sums along the second dimension (i.e. along the columns)\n",
      "[ 6 22 38]\n"
     ]
    }
   ],
   "source": [
    "A = np.arange(3*4).reshape(3, 4)\n",
    "print(A)\n",
    "\n",
    "print('With no argument, it is the total sum', np.sum(A))\n",
    "print('With axis=0, it sums along the first dimension (i.e. along the rows)')\n",
    "print(np.sum(A, axis=0))\n",
    "print('With axis=1, it sums along the second dimension (i.e. along the columns)')\n",
    "print(np.sum(A, axis=1))"
   ]
  }
 ],
 "metadata": {
  "accelerator": "GPU",
  "colab": {
   "collapsed_sections": [],
   "name": "Assignment_01_Instructions.ipynb",
   "provenance": [],
   "toc_visible": true
  },
  "kernelspec": {
   "display_name": "Python 3",
   "language": "python",
   "name": "python3"
  },
  "language_info": {
   "codemirror_mode": {
    "name": "ipython",
    "version": 3
   },
   "file_extension": ".py",
   "mimetype": "text/x-python",
   "name": "python",
   "nbconvert_exporter": "python",
   "pygments_lexer": "ipython3",
   "version": "3.7.3"
  }
 },
 "nbformat": 4,
 "nbformat_minor": 1
}
